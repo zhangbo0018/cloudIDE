{
 "cells": [
  {
   "cell_type": "code",
   "execution_count": 3,
   "metadata": {},
   "outputs": [],
   "source": [
    "import pandas as pd\n",
    "import json\n",
    "import re"
   ]
  },
  {
   "cell_type": "code",
   "execution_count": 4,
   "metadata": {},
   "outputs": [],
   "source": [
    "MAX_USER = 500\n",
    "d_movie = dict()\n",
    "s_movie = set()\n",
    "\n",
    "out_movies = open(\"../out_movies.csv\",\"w\")\n",
    "out_movies.write(\"title\\n\")\n",
    "\n",
    "for line in open(\"movie_titles.csv\",\"r\",encoding = 'ISO-8859-1'):\n",
    "    line = line.strip().split(',')\n",
    "    movie_id = int(line[0])\n",
    "    title = line[2].replace(\"\\\"\",\"\")\n",
    "    title = \"\\\"\" + title + \"\\\"\"\n",
    "    \n",
    "    d_movie[movie_id] = title\n",
    "    \n",
    "    if title in s_movie:\n",
    "        continue\n",
    "    s_movie.add(title)\n",
    "    \n",
    "    out_movies.write(f\"{title}\\n\")\n",
    "    \n",
    "out_movies.close()"
   ]
  },
  {
   "cell_type": "code",
   "execution_count": 5,
   "metadata": {},
   "outputs": [],
   "source": [
    "out_grade = open(\"../out_grade.csv\",\"w\")\n",
    "out_grade.write(\"user_id,title,grade\\n\")\n",
    "\n",
    "files = [\"combined_data_1.txt\"]\n",
    "for f in files:\n",
    "    movie_id = -1\n",
    "    for line in open(f,\"r\"):\n",
    "        pos = line.find(\":\")\n",
    "        if pos != -1: # is a new user\n",
    "            movie_id = int(line[:pos])\n",
    "            continue\n",
    "        line = line.strip().split(\",\")\n",
    "        user_id = int(line[0])\n",
    "        rating = int(line[1])\n",
    "        \n",
    "        if user_id > MAX_USER:\n",
    "            continue\n",
    "\n",
    "        out_grade.write(f\"{user_id},{d_movie[movie_id]},{rating}\\n\")\n",
    "        \n",
    "out_grade.close()"
   ]
  },
  {
   "cell_type": "code",
   "execution_count": null,
   "metadata": {},
   "outputs": [],
   "source": [
    "# FILEPATH: undefined\n",
    "out_grade = open(\"../out_grade.csv\",\"w\")\n",
    "out_grade.write(\"user_id,title,grade\\n\")\n",
    "\n",
    "files = [\"combined_data_1.txt\"]\n",
    "for f in files:\n",
    "    movie_id = -1\n",
    "    line_count = 0  # 添加行计数器\n",
    "    for line in open(f,\"r\"):\n",
    "        if line_count >= 10:  # 当读够十行时退出循环\n",
    "            break\n",
    "        pos = line.find(\":\")\n",
    "        if pos!= -1: # is a new user\n",
    "            movie_id = int(line[:pos])\n",
    "            continue\n",
    "        line = line.strip().split(\",\")\n",
    "        user_id = int(line[0])\n",
    "        rating = int(line[1])\n",
    "        \n",
    "        if user_id > MAX_USER:\n",
    "            continue\n",
    "\n",
    "        out_grade.write(f\"{user_id},{d_movie[movie_id]},{rating}\\n\")\n",
    "        line_count += 1  # 每行加一，用以控制行数\n",
    "        \n",
    "out_grade.close()"
   ]
  },
  {
   "cell_type": "code",
   "execution_count": 1,
   "metadata": {},
   "outputs": [
    {
     "name": "stderr",
     "output_type": "stream",
     "text": [
      "/tmp/ipykernel_26114/2991513668.py:2: DtypeWarning: Columns (0) have mixed types. Specify dtype option on import or set low_memory=False.\n",
      "  data=pd.read_csv(\"combined_data_1.txt\",sep=\",\",header=None,names=[\"user_id\",\"movie_id\",\"rating\",\"timestamp\"])\n"
     ]
    },
    {
     "ename": "",
     "evalue": "",
     "output_type": "error",
     "traceback": [
      "\u001b[1;31mCannot execute code, session has been disposed. Please try restarting the Kernel."
     ]
    },
    {
     "ename": "",
     "evalue": "",
     "output_type": "error",
     "traceback": [
      "\u001b[1;31mThe Kernel crashed while executing code in the the current cell or a previous cell. Please review the code in the cell(s) to identify a possible cause of the failure. Click <a href='https://aka.ms/vscodeJupyterKernelCrash'>here</a> for more info. View Jupyter <a href='command:jupyter.viewOutput'>log</a> for further details."
     ]
    }
   ],
   "source": [
    "import pandas as pd\n",
    "data=pd.read_csv(\"combined_data_1.txt\",sep=\",\",header=None,names=[\"user_id\",\"movie_id\",\"rating\",\"timestamp\"])\n",
    "data.head()"
   ]
  },
  {
   "cell_type": "code",
   "execution_count": null,
   "metadata": {},
   "outputs": [],
   "source": []
  }
 ],
 "metadata": {
  "kernelspec": {
   "display_name": "Python 3",
   "language": "python",
   "name": "python3"
  },
  "language_info": {
   "codemirror_mode": {
    "name": "ipython",
    "version": 3
   },
   "file_extension": ".py",
   "mimetype": "text/x-python",
   "name": "python",
   "nbconvert_exporter": "python",
   "pygments_lexer": "ipython3",
   "version": "3.12.2"
  }
 },
 "nbformat": 4,
 "nbformat_minor": 2
}
