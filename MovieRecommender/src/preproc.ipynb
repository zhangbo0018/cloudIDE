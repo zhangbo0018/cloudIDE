{
 "cells": [
  {
   "cell_type": "code",
   "execution_count": 1,
   "metadata": {},
   "outputs": [],
   "source": [
    "import pandas as pd\n",
    "import json\n",
    "import re"
   ]
  },
  {
   "cell_type": "code",
   "execution_count": 2,
   "metadata": {},
   "outputs": [],
   "source": [
    "MAX_USER = 500\n",
    "d_movie = dict()\n",
    "s_movie = set()\n",
    "\n",
    "out_movies = open(\"../out_movies.csv\",\"w\")\n",
    "out_movies.write(\"title\\n\")\n",
    "\n",
    "for line in open(\"movie_titles.csv\",\"r\",encoding = 'ISO-8859-1'):\n",
    "    line = line.strip().split(',')\n",
    "    movie_id = int(line[0])\n",
    "    title = line[2].replace(\"\\\"\",\"\")\n",
    "    title = \"\\\"\" + title + \"\\\"\"\n",
    "    \n",
    "    d_movie[movie_id] = title\n",
    "    \n",
    "    if title in s_movie:\n",
    "        continue\n",
    "    s_movie.add(title)\n",
    "    \n",
    "    out_movies.write(f\"{title}\\n\")\n",
    "    \n",
    "out_movies.close()"
   ]
  },
  {
   "cell_type": "code",
   "execution_count": 3,
   "metadata": {},
   "outputs": [],
   "source": [
    "out_grade = open(\"../out_grade.csv\",\"w\")\n",
    "out_grade.write(\"user_id,title,grade\\n\")\n",
    "\n",
    "files = [\"combined_data_1.txt\"]\n",
    "for f in files:\n",
    "    movie_id = -1\n",
    "    for line in open(f,\"r\"):\n",
    "        pos = line.find(\":\")\n",
    "        if pos != -1: # is a new user\n",
    "            movie_id = int(line[:pos])\n",
    "            continue\n",
    "        line = line.strip().split(\",\")\n",
    "        user_id = int(line[0])\n",
    "        rating = int(line[1])\n",
    "        \n",
    "        if user_id > MAX_USER:\n",
    "            continue\n",
    "\n",
    "        out_grade.write(f\"{user_id},{d_movie[movie_id]},{rating}\\n\")\n",
    "        \n",
    "out_grade.close()"
   ]
  },
  {
   "cell_type": "code",
   "execution_count": null,
   "metadata": {},
   "outputs": [],
   "source": [
    "pattern = re.compile(\"[A-Za-z0-9]+\")\n",
    "out_genre = open(\"../out_genre.csv\",\"w\",encoding='utf-8')\n",
    "out_genre.write(\"title,genre\\n\")\n",
    "out_keyword = open(\"../out_keyword.csv\",\"w\",encoding='utf-8')\n",
    "out_keyword.write(\"title,keyword\\n\")\n",
    "out_productor = open(\"../out_productor.csv\",\"w\",encoding='utf-8')\n",
    "out_productor.write(\"title,productor\\n\")\n",
    "\n",
    "df = pd.read_csv(\"tmdb_5000_movies.csv\", sep=\",\")\n",
    "json_columns = ['genres', 'keywords', 'production_companies']\n",
    "for column in json_columns:\n",
    "    df[column] = df[column].apply(json.loads)\n",
    "df = df[[\"genres\", \"keywords\", \"original_title\",\"production_companies\"]]\n",
    "for _, row in df.iterrows():\n",
    "    title = row[\"original_title\"]\n",
    "    if not pattern.fullmatch(title):\n",
    "        continue\n",
    "    title = \"\\\"\" + title + \"\\\"\"\n",
    "    for g in row[\"genres\"]:\n",
    "        genre = g[\"name\"]\n",
    "        genre = \"\\\"\" + genre + \"\\\"\"\n",
    "        out_genre.write(f\"{title},{genre}\\n\")\n",
    "    for g in row[\"keywords\"]:\n",
    "        keyword = g[\"name\"]\n",
    "        keyword = \"\\\"\" + keyword + \"\\\"\"\n",
    "        out_keyword.write(f\"{title},{keyword}\\n\")\n",
    "    for g in row[\"production_companies\"]:\n",
    "        productor = g[\"name\"]\n",
    "        productor = \"\\\"\" + productor + \"\\\"\"\n",
    "        out_productor.write(f\"{title},{productor}\\n\")"
   ]
  },
  {
   "cell_type": "code",
   "execution_count": null,
   "metadata": {},
   "outputs": [],
   "source": []
  }
 ],
 "metadata": {
  "kernelspec": {
   "display_name": "Python 3",
   "language": "python",
   "name": "python3"
  },
  "language_info": {
   "codemirror_mode": {
    "name": "ipython",
    "version": 3
   },
   "file_extension": ".py",
   "mimetype": "text/x-python",
   "name": "python",
   "nbconvert_exporter": "python",
   "pygments_lexer": "ipython3",
   "version": "3.12.2"
  }
 },
 "nbformat": 4,
 "nbformat_minor": 2
}
