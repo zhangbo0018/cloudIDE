{
 "cells": [
  {
   "cell_type": "markdown",
   "metadata": {},
   "source": [
    "## 数据下载地址Display Advertising Challenge"
   ]
  },
  {
   "cell_type": "markdown",
   "metadata": {},
   "source": [
    "https://www.kaggle.com/c/criteo-display-ad-challenge/data"
   ]
  },
  {
   "cell_type": "code",
   "execution_count": 13,
   "metadata": {},
   "outputs": [
    {
     "data": {
      "text/html": [
       "<div>\n",
       "<style scoped>\n",
       "    .dataframe tbody tr th:only-of-type {\n",
       "        vertical-align: middle;\n",
       "    }\n",
       "\n",
       "    .dataframe tbody tr th {\n",
       "        vertical-align: top;\n",
       "    }\n",
       "\n",
       "    .dataframe thead th {\n",
       "        text-align: right;\n",
       "    }\n",
       "</style>\n",
       "<table border=\"1\" class=\"dataframe\">\n",
       "  <thead>\n",
       "    <tr style=\"text-align: right;\">\n",
       "      <th></th>\n",
       "      <th>0</th>\n",
       "      <th>1</th>\n",
       "      <th>2</th>\n",
       "      <th>3</th>\n",
       "      <th>4</th>\n",
       "      <th>5</th>\n",
       "      <th>6</th>\n",
       "      <th>7</th>\n",
       "      <th>8</th>\n",
       "      <th>9</th>\n",
       "      <th>...</th>\n",
       "      <th>30</th>\n",
       "      <th>31</th>\n",
       "      <th>32</th>\n",
       "      <th>33</th>\n",
       "      <th>34</th>\n",
       "      <th>35</th>\n",
       "      <th>36</th>\n",
       "      <th>37</th>\n",
       "      <th>38</th>\n",
       "      <th>39</th>\n",
       "    </tr>\n",
       "  </thead>\n",
       "  <tbody>\n",
       "    <tr>\n",
       "      <th>0</th>\n",
       "      <td>1</td>\n",
       "      <td>1</td>\n",
       "      <td>5</td>\n",
       "      <td>0</td>\n",
       "      <td>1382</td>\n",
       "      <td>4</td>\n",
       "      <td>15</td>\n",
       "      <td>2</td>\n",
       "      <td>181</td>\n",
       "      <td>1</td>\n",
       "      <td>...</td>\n",
       "      <td>21</td>\n",
       "      <td>1</td>\n",
       "      <td>1</td>\n",
       "      <td>0</td>\n",
       "      <td>0</td>\n",
       "      <td>2</td>\n",
       "      <td>2134</td>\n",
       "      <td>2</td>\n",
       "      <td>1841</td>\n",
       "      <td>0</td>\n",
       "    </tr>\n",
       "    <tr>\n",
       "      <th>1</th>\n",
       "      <td>2</td>\n",
       "      <td>0</td>\n",
       "      <td>44</td>\n",
       "      <td>1</td>\n",
       "      <td>102</td>\n",
       "      <td>8</td>\n",
       "      <td>2</td>\n",
       "      <td>2</td>\n",
       "      <td>4</td>\n",
       "      <td>1</td>\n",
       "      <td>...</td>\n",
       "      <td>16</td>\n",
       "      <td>1</td>\n",
       "      <td>2</td>\n",
       "      <td>12</td>\n",
       "      <td>0</td>\n",
       "      <td>2</td>\n",
       "      <td>17</td>\n",
       "      <td>2</td>\n",
       "      <td>9</td>\n",
       "      <td>0</td>\n",
       "    </tr>\n",
       "    <tr>\n",
       "      <th>2</th>\n",
       "      <td>2</td>\n",
       "      <td>0</td>\n",
       "      <td>1</td>\n",
       "      <td>14</td>\n",
       "      <td>767</td>\n",
       "      <td>89</td>\n",
       "      <td>4</td>\n",
       "      <td>2</td>\n",
       "      <td>245</td>\n",
       "      <td>1</td>\n",
       "      <td>...</td>\n",
       "      <td>312</td>\n",
       "      <td>0</td>\n",
       "      <td>0</td>\n",
       "      <td>3</td>\n",
       "      <td>1</td>\n",
       "      <td>2</td>\n",
       "      <td>3</td>\n",
       "      <td>0</td>\n",
       "      <td>0</td>\n",
       "      <td>0</td>\n",
       "    </tr>\n",
       "    <tr>\n",
       "      <th>3</th>\n",
       "      <td>0</td>\n",
       "      <td>893</td>\n",
       "      <td>0</td>\n",
       "      <td>0</td>\n",
       "      <td>4392</td>\n",
       "      <td>0</td>\n",
       "      <td>0</td>\n",
       "      <td>0</td>\n",
       "      <td>0</td>\n",
       "      <td>0</td>\n",
       "      <td>...</td>\n",
       "      <td>30</td>\n",
       "      <td>0</td>\n",
       "      <td>0</td>\n",
       "      <td>0</td>\n",
       "      <td>0</td>\n",
       "      <td>2</td>\n",
       "      <td>7</td>\n",
       "      <td>0</td>\n",
       "      <td>0</td>\n",
       "      <td>0</td>\n",
       "    </tr>\n",
       "    <tr>\n",
       "      <th>4</th>\n",
       "      <td>3</td>\n",
       "      <td>-1</td>\n",
       "      <td>0</td>\n",
       "      <td>0</td>\n",
       "      <td>2</td>\n",
       "      <td>0</td>\n",
       "      <td>3</td>\n",
       "      <td>0</td>\n",
       "      <td>0</td>\n",
       "      <td>1</td>\n",
       "      <td>...</td>\n",
       "      <td>296</td>\n",
       "      <td>0</td>\n",
       "      <td>0</td>\n",
       "      <td>16</td>\n",
       "      <td>0</td>\n",
       "      <td>1</td>\n",
       "      <td>2</td>\n",
       "      <td>0</td>\n",
       "      <td>0</td>\n",
       "      <td>0</td>\n",
       "    </tr>\n",
       "  </tbody>\n",
       "</table>\n",
       "<p>5 rows × 40 columns</p>\n",
       "</div>"
      ],
      "text/plain": [
       "   0    1   2   3     4   5   6   7    8   9   ...   30  31  32  33  34  35  \\\n",
       "0   1    1   5   0  1382   4  15   2  181   1  ...   21   1   1   0   0   2   \n",
       "1   2    0  44   1   102   8   2   2    4   1  ...   16   1   2  12   0   2   \n",
       "2   2    0   1  14   767  89   4   2  245   1  ...  312   0   0   3   1   2   \n",
       "3   0  893   0   0  4392   0   0   0    0   0  ...   30   0   0   0   0   2   \n",
       "4   3   -1   0   0     2   0   3   0    0   1  ...  296   0   0  16   0   1   \n",
       "\n",
       "     36  37    38  39  \n",
       "0  2134   2  1841   0  \n",
       "1    17   2     9   0  \n",
       "2     3   0     0   0  \n",
       "3     7   0     0   0  \n",
       "4     2   0     0   0  \n",
       "\n",
       "[5 rows x 40 columns]"
      ]
     },
     "execution_count": 13,
     "metadata": {},
     "output_type": "execute_result"
    }
   ],
   "source": [
    "import numpy as np\n",
    "import pandas as pd\n",
    "import os\n",
    "\n",
    "import torch\n",
    "import torch.optim as optim\n",
    "from torch.utils.data import DataLoader\n",
    "from torch.utils.data import sampler\n",
    "import torch.nn as nn\n",
    "import torch.nn.functional as F\n",
    "from time import time\n",
    "\n",
    "Num_train = 90\n",
    "data_content = \"/cloudide/workspace/All-in-One/DeepFM/data\"\n",
    "\n",
    "data=pd.read_csv(os.path.join(data_content, 'train.txt'), header=None)\n",
    "data.head()"
   ]
  },
  {
   "cell_type": "code",
   "execution_count": 14,
   "metadata": {},
   "outputs": [],
   "source": [
    "# 训练数据是DataFrame中除了最后一列之外的所有列的值。\n",
    "train_data = data.iloc[:, :-1].values"
   ]
  },
  {
   "cell_type": "code",
   "execution_count": 15,
   "metadata": {},
   "outputs": [
    {
     "name": "stdout",
     "output_type": "stream",
     "text": [
      "90\n",
      "加载数据的第一行： tensor([   0,    0,   14,    6, 7132,  171,    2,    2,    6,    0,    1,    0,\n",
      "           6,    1,    1, 2300, 1106,    1,    2,  670,    2,    1,    9,  114,\n",
      "        2360,   42,    1, 2020, 1907,    2,  676,    0,    0, 1735,    0,    2,\n",
      "           4,    0,    0])\n"
     ]
    }
   ],
   "source": [
    "loader_train = DataLoader(train_data, batch_size=16,sampler=sampler.SubsetRandomSampler(range(Num_train)))\n",
    "print(len(loader_train.sampler.indices))\n",
    "loader_iter = iter(loader_train)\n",
    "datal = next(loader_iter)\n",
    "print(\"加载数据的第一行：\", datal[0])\n"
   ]
  },
  {
   "cell_type": "code",
   "execution_count": 16,
   "metadata": {},
   "outputs": [],
   "source": [
    "val_data = data.iloc[:, :-1].values"
   ]
  },
  {
   "cell_type": "code",
   "execution_count": 17,
   "metadata": {},
   "outputs": [
    {
     "name": "stdout",
     "output_type": "stream",
     "text": [
      "10\n",
      "加载数据的第一行： tensor([    0,     0,    78,     1, 15835,   220,     1,     1,     1,     0,\n",
      "            1,     0,     1,     1,     7,     0,  1019,     1,     3,   959,\n",
      "            1,     1,    42,   417,     0,   418,     2,     6,  1465,     3,\n",
      "            5,   631,     1,  3577,     0,     2,     4,     2,   306])\n"
     ]
    }
   ],
   "source": [
    "loader_val = DataLoader(val_data, batch_size=16,\n",
    "        sampler=sampler.SubsetRandomSampler(range(Num_train, 100)))\n",
    "print(len(loader_val.sampler.indices))\n",
    "loader_iter = iter(loader_val)\n",
    "datal = next(loader_iter)\n",
    "print(\"加载数据的第一行：\", datal[0])\n"
   ]
  },
  {
   "cell_type": "code",
   "execution_count": 18,
   "metadata": {},
   "outputs": [
    {
     "name": "stdout",
     "output_type": "stream",
     "text": [
      "feature_size: [1, 1, 1, 1, 1, 1, 1, 1, 1, 1, 1, 1, 1, 532, 533, 11289, 13822, 151, 13, 9005, 254, 4, 11557, 4191, 11560, 3037, 27, 5640, 12459, 11, 2790, 1391, 4, 12005, 10, 15, 9617, 52, 7599]\n"
     ]
    }
   ],
   "source": [
    "feature_sizes = np.loadtxt(data_content + '/feature_sizes.txt', delimiter=',')\n",
    "feature_sizes = [int(x) for x in feature_sizes]\n",
    "print(\"feature_size:\", feature_sizes)"
   ]
  },
  {
   "cell_type": "code",
   "execution_count": 19,
   "metadata": {},
   "outputs": [
    {
     "name": "stdout",
     "output_type": "stream",
     "text": [
      "Using CPU\n"
     ]
    }
   ],
   "source": [
    "if torch.cuda.is_available():\n",
    "  device = torch.device('cuda')\n",
    "  print('Using GPU')\n",
    "# 否则将模型放在 CPU 上\n",
    "else:\n",
    "  device = torch.device('cpu')\n",
    "  print('Using CPU')"
   ]
  },
  {
   "cell_type": "code",
   "execution_count": 21,
   "metadata": {},
   "outputs": [
    {
     "name": "stdout",
     "output_type": "stream",
     "text": [
      "fm_first_order_embeddings: ModuleList(\n",
      "  (0-12): 13 x Embedding(1, 1)\n",
      "  (13): Embedding(532, 1)\n",
      "  (14): Embedding(533, 1)\n",
      "  (15): Embedding(11289, 1)\n",
      "  (16): Embedding(13822, 1)\n",
      "  (17): Embedding(151, 1)\n",
      "  (18): Embedding(13, 1)\n",
      "  (19): Embedding(9005, 1)\n",
      "  (20): Embedding(254, 1)\n",
      "  (21): Embedding(4, 1)\n",
      "  (22): Embedding(11557, 1)\n",
      "  (23): Embedding(4191, 1)\n",
      "  (24): Embedding(11560, 1)\n",
      "  (25): Embedding(3037, 1)\n",
      "  (26): Embedding(27, 1)\n",
      "  (27): Embedding(5640, 1)\n",
      "  (28): Embedding(12459, 1)\n",
      "  (29): Embedding(11, 1)\n",
      "  (30): Embedding(2790, 1)\n",
      "  (31): Embedding(1391, 1)\n",
      "  (32): Embedding(4, 1)\n",
      "  (33): Embedding(12005, 1)\n",
      "  (34): Embedding(10, 1)\n",
      "  (35): Embedding(15, 1)\n",
      "  (36): Embedding(9617, 1)\n",
      "  (37): Embedding(52, 1)\n",
      "  (38): Embedding(7599, 1)\n",
      ")\n",
      "39\n",
      "torch.Size([1, 1])\n"
     ]
    }
   ],
   "source": [
    "\n",
    "fm_first_order_embeddings = nn.ModuleList([nn.Embedding(feature_size, 1) for feature_size in feature_sizes])\n",
    "print('fm_first_order_embeddings:', fm_first_order_embeddings)\n",
    "print(len(fm_first_order_embeddings))\n",
    "print(fm_first_order_embeddings[0].weight.data.size())"
   ]
  },
  {
   "cell_type": "code",
   "execution_count": 22,
   "metadata": {},
   "outputs": [
    {
     "name": "stdout",
     "output_type": "stream",
     "text": [
      "fm_second_order_embeddings: ModuleList(\n",
      "  (0-12): 13 x Embedding(1, 4)\n",
      "  (13): Embedding(532, 4)\n",
      "  (14): Embedding(533, 4)\n",
      "  (15): Embedding(11289, 4)\n",
      "  (16): Embedding(13822, 4)\n",
      "  (17): Embedding(151, 4)\n",
      "  (18): Embedding(13, 4)\n",
      "  (19): Embedding(9005, 4)\n",
      "  (20): Embedding(254, 4)\n",
      "  (21): Embedding(4, 4)\n",
      "  (22): Embedding(11557, 4)\n",
      "  (23): Embedding(4191, 4)\n",
      "  (24): Embedding(11560, 4)\n",
      "  (25): Embedding(3037, 4)\n",
      "  (26): Embedding(27, 4)\n",
      "  (27): Embedding(5640, 4)\n",
      "  (28): Embedding(12459, 4)\n",
      "  (29): Embedding(11, 4)\n",
      "  (30): Embedding(2790, 4)\n",
      "  (31): Embedding(1391, 4)\n",
      "  (32): Embedding(4, 4)\n",
      "  (33): Embedding(12005, 4)\n",
      "  (34): Embedding(10, 4)\n",
      "  (35): Embedding(15, 4)\n",
      "  (36): Embedding(9617, 4)\n",
      "  (37): Embedding(52, 4)\n",
      "  (38): Embedding(7599, 4)\n",
      ")\n",
      "39\n"
     ]
    },
    {
     "name": "stderr",
     "output_type": "stream",
     "text": [
      "Bad pipe message: %s [b'fd93e17\\r\\nX-Real-IP: 10.0.102.249\\r\\nX-Forwarded-For: 10.0.102.249\\r\\nHost: 58jfq96t-8ducspsf-45depob']\n",
      "Bad pipe message: %s [b'g73.c2.mcprev.cn\\r\\nX-Forwarded-Host: 58jfq96t-8ducspsf-45depobrug73.c2.mcprev.cn\\r\\nX-Forwarded-Proto: https\\r\\nX-Forw', b'ded-Scheme: https\\r\\nX-Scheme: https\\r\\nsec-ch-ua: \"Microsoft Edge\";v=\"117\", \"Not;A=Brand\";v=\"8\", \"C']\n",
      "Bad pipe message: %s [b'omium\";v=\"117\"\\r\\nsec-ch-ua-mobile: ?0\\r\\nsec-ch-ua-platform: \"Windows\"\\r\\nUpgrade-Insecure-Requests: 1\\r\\nUser']\n",
      "Bad pipe message: %s [b'gent: Mozilla/5.0 (Windows NT 10.0; Win64; x', b') AppleWebKit/537.36 (KHTML, like Gecko) Chrome/117.0']\n",
      "Bad pipe message: %s [b'.0 Safari/537.36 Edg/117.0.2045.36\\r\\nAccept: t']\n",
      "Bad pipe message: %s [b't/html,application/xhtml+xml,application/xml;q=0.9,image/webp,image/apng,*/*;q=0.8,application/signe']\n",
      "Bad pipe message: %s [b'exchange;v=b3;q=0.7\\r\\nSec-Fetch-Site: same-origin\\r\\nSec-Fetch-Mode: navigate\\r\\nSec-Fetch-Dest: iframe\\r', b'eferer: h']\n",
      "Bad pipe message: %s [b'ps://58jfq96t-8ducspsf-45depobrug73.c2.mcprev.cn/_marscode/devtools_wrapper.html?initialPath=%2F&lang=zh\\r\\nAccept-En']\n",
      "Bad pipe message: %s [b'13914cc\\r\\nX-Real-IP: 10.0.102.249\\r\\nX-Forwarded-For: 10.0.', b'2.249\\r\\nHost: 58jfq96t-8ducspsf-45depobrug73.c2.m']\n",
      "Bad pipe message: %s [b'rev.cn\\r\\nX-Forwarded-Host: 58jfq96t-8ducspsf-45depobrug73.c2.mcprev.cn\\r\\nX-Forwarded-Proto: https\\r\\nX']\n",
      "Bad pipe message: %s [b'orwarded-Scheme: https\\r\\nX-Scheme: https\\r\\nsec']\n",
      "Bad pipe message: %s [b'h-ua: \"Microsoft Edge\";v=\"117\", \"Not;A=Brand', b'v=\"8\", \"Chromium\";v=\"117\"\\r\\nsec-ch', b'a-mobile: ?0\\r\\nsec-ch-ua-platform: \"Windows\"\\r', b'pgrade-In', b'cure-Requests: 1\\r\\nUser-Agent: Mozilla/5.0 (Windows NT 10.0; Win64; x64) AppleWebKit/537.36 (KHTML, like Gecko) Chr', b'e/117.0.0.0 Safari/537.36 Edg/117.0.2045.36\\r\\nAccept: text/html,application/xhtml+xml,application/xml;q=0.9,ima', b'/webp,image/apng,*/*;q=0.8,application/signed-exchange;v=b3;q=0.7\\r\\nSec-Fetch-Site: same-origin\\r\\nSec-Fe', b'h-Mode: navigate\\r\\nSec-Fetch-Dest: iframe\\r\\nReferer: https://58jfq96t-8ducspsf-45depobrug73.c2.mcprev.cn/_marscode/de', b'ools_wrapper.html?initialPath=%2F&lang=zh\\r\\nAccept-Encoding: gzip, deflate, br\\r\\nAccept-Language: zh-CN,zh;q=0.9,en;q=0']\n",
      "Bad pipe message: %s [b',en-GB;q=0.7,en-US;q=0.6\\r\\nx-tt-logid: 0217212']\n",
      "Bad pipe message: %s [b'54530200000000000000000000ffff0a0277d7462389\\r\\n\\r']\n",
      "Bad pipe message: %s [b'21345fe\\r\\nX-Real-IP: 10.0.102.249\\r\\nX-Forwarded-For: 10.0.102.249\\r\\nHost: k6m6pn4y-v3vda47l-idy57t2sl2m7', b'2.mcprev.cn\\r\\nX-Forwarded-Host: k6m6pn4y-v3vda', b'l-idy57t2sl2m7.c2.mcprev.cn\\r\\nX-Forwarded-Proto: htt', b'\\r\\nX-Forwarded-Scheme: https\\r\\nX-Scheme: https\\r\\nsec-ch-ua: \"Microsoft Edge\";v=\"117\", \"Not;A=Brand\";v=\"8\", \"Chromi', b'\";v=\"117\"\\r\\nsec-ch-ua-mobile: ?0\\r\\nsec-ch-ua-platform: \"Windows\"\\r\\nUpgrade-Insecure-Requests: 1\\r\\nUser-Agent: Mozilla/5.', b'(Windows NT 10.0; Win64; x64) AppleWebKit/537.3']\n",
      "Bad pipe message: %s [b'(KHTML, like Gecko) Chrome/117.0.0.0 Safari/537.36 Ed']\n",
      "Bad pipe message: %s [b'117.0.2045.36\\r\\nAccept: text/html,application/xhtml+xml,application/xml;q=0.9,image/webp,image/apng,*/*', b'=0.8,application/signed-exchange;v=b3;q=0.7\\r\\nSec-Fetch-Sit', b' same-origin\\r\\nSec-Fetch-Mode: navigate\\r\\nSec-Fetch-Dest: iframe\\r\\nReferer: https://k6m6pn4y-v3vda47l-i']\n",
      "Bad pipe message: %s [b'57t2sl2m7.c2.mcprev.cn/_marscode/devtools_wrapper.html?initialPath=%2F&lang=zh\\r\\nAccept-Encoding: gz', b', deflate, br\\r\\nAccept-Language: zh-CN,zh;q=0.9,en;q=0.8,en-GB;q=0.7,en-US;q=0.6\\r\\nx-tt-logid: 02172121458']\n",
      "Bad pipe message: %s [b'df86582\\r\\nX-Real-IP: 10.0.77.177\\r\\nX-Forwarded-For: 10.0.', b'.177\\r\\nHost: k6m6pn4y-v3vda47l-idy57t2sl2m7.c2.mcprev.c', b'\\nX-Forwarded-Host: k6m6pn4y-v3vda47l-idy57t2sl2m7.c2.mcprev.cn\\r\\nX-Forwarded-Proto: https\\r\\nX-Forwarded-Scheme:', b'ttps\\r\\nX-Scheme: https\\r\\nsec-ch-u']\n",
      "Bad pipe message: %s [b' \"Microsoft Edge\";v=\"117\", \"Not;A=Brand\";v=\"8\", \"Chromium\";v=\"117\"\\r\\nsec-ch-ua-mobile: ?0\\r\\nsec-ch']\n",
      "Bad pipe message: %s [b'a-platform: \"Windows\"\\r\\nUpgrade-Insecure-Requ', b'ts: 1\\r\\nUser-Agent: Mozilla/5.0 (Windows NT 10.0; Win64; x64) AppleWebKit/537.36 (KHTML, like Gecko) ', b'rome/117.0.0.0 Safari/537.36 Edg/117.0.2045.36\\r\\nAccept: text/html,']\n",
      "Bad pipe message: %s [b'plication/xhtml+xml,application/xml;q=0.9,image/webp,image/apng,*/*;q=0.8,application/signed-exc']\n",
      "Bad pipe message: %s [b'nge;v=b3;q=0.7\\r\\nSec-Fetch-Site: same-origin\\r\\nSec-Fetch-Mode: navigate\\r\\nSec-Fetch-Dest: iframe\\r\\nReferer:', b'ttps://k6m6pn4y-v3vda47l-idy57t']\n",
      "Bad pipe message: %s [b'4bc02cf\\r\\nX-Real-IP: 10.0.102.249\\r\\nX-Forwarded-Fo']\n",
      "Bad pipe message: %s [b' 10.0.102.249\\r\\nHost: 81u1wbsa-hv88gdru-vpzzgihbkebj.c2.mcprev.cn\\r\\nX-Forwarded-Host: 81u1wbsa-hv88gdru-vpzzgihbkeb']\n",
      "Bad pipe message: %s [b'c2.mcprev.cn\\r\\nX-Forwarded-Proto: https\\r\\nX-Forwarded-Scheme: https\\r\\nX-Scheme: https\\r\\nsec-ch-ua: \"Microsoft']\n",
      "Bad pipe message: %s [b'dge\";v=\"117\", \"Not;A=Brand\";v=\"', b', \"Chromium\";v=\"117\"\\r\\nsec-ch-ua-mobile: ?0\\r\\nsec-ch-ua-p']\n",
      "Bad pipe message: %s [b'tform: \"Windows\"\\r\\nUpgrade-Insecure-Requests: 1\\r\\nUser-Agent: Mozilla/5.0 (Windows NT 10.0; Win64; x64) Apple', b'bKit/537.36 (KHTML, like Gecko) Chrome/117.0.0.0 Safari/537.36 Edg/117.0.2045.36\\r\\nAcce', b': text/html,application/xhtml+xml,application/xml;q=0.9,image/webp,image/apng,*/*;q=0.8,application/signed-exch']\n",
      "Bad pipe message: %s [b'ge;v=b3;q=0.7\\r\\nSec-Fetch-Site: same-origin\\r\\nSec-Fetch-Mode: navigate\\r\\nSec-Fetch-Dest: iframe\\r\\nRe']\n",
      "Bad pipe message: %s [b'rer: https://81u1wbsa-hv88gdru-vpzzgihbkebj.c2.mcprev.cn/_marscode/devtools_wrapper.html?initialPath=', b'F&lang=zh\\r\\nAccept-Encoding: gzip, de']\n",
      "Bad pipe message: %s [b'ate, br\\r\\nAccept-Language: zh-CN,zh;q=0.9,en;q=0.8,en-GB;q=0.7,en-US;q=0.6\\r\\nx-tt-logid: 02172122153378']\n",
      "Bad pipe message: %s [b'd5fd729\\r\\nX-Real-IP: 10.0.77.177\\r\\nX-Forwarded-For: 10.0.']\n",
      "Bad pipe message: %s [b'.177\\r\\nHost: 81u1wbsa-hv88gdru-vpzzgihbkebj.c2.mcprev.c', b'\\nX-Forwarded-Host: 81u1wbsa-hv88gdru-vpzzgihbkebj.c2.mcprev.cn\\r\\nX-Forwarded-Proto: https\\r\\nX-Forwarded-Scheme:', b'ttps\\r\\nX-Scheme: https\\r\\nsec-ch-u']\n",
      "Bad pipe message: %s [b' \"Microsoft Edge\";v=\"117\", \"Not;A=Brand\";v=\"8\", \"Chromium\";v=\"117\"\\r\\nsec-ch-ua-mobile: ?0\\r\\nsec-ch']\n",
      "Bad pipe message: %s [b'a-platform: \"Windows\"\\r\\nUpgrade-Insecure-Requ', b'ts: 1\\r\\nUser-Agent: Mozilla/5.0 (Windows NT 10.0; Win64; x64) AppleWebKit/537.36 (KHTML, like Gecko) ', b'rome/117.0.0.0 Safari/537.36 Edg/117.0.2045.36\\r\\nAccept: text/html,']\n",
      "Bad pipe message: %s [b'plication/xhtml+xml,application/xml;q=0.9,image/webp,image/apng,*/*;q=0.8,application/signed-exc']\n",
      "Bad pipe message: %s [b'nge;v=b3;q=0.7\\r\\nSec-Fetch-Site: same-origin\\r\\nSec-Fetch-Mode: navigate\\r\\nSec-Fetch-Dest: iframe\\r\\nReferer:', b'ttps://81u1wbsa-hv88gdru-vpzzgi']\n",
      "Bad pipe message: %s [b'kebj.c2.mcprev.cn/_marscode/devtools_wrapper.html?initialPath=%2F&lang=zh\\r\\nAccept-Encoding: gzip, defla']\n",
      "Bad pipe message: %s [b'a019d75\\r\\nX-Real-IP: 10.0.77.177\\r\\nX-Forwarded-For: 1', b'0.77.177\\r\\nHost: a7o3o8ly-zkjmd1cf-h2zu43h9hv27.']\n",
      "Bad pipe message: %s [b'.mcprev.cn\\r\\nX-Forwarded-Host: a7o3o8ly-zkjmd1cf-h2zu43h9hv27.c2.mcprev.cn\\r\\nX-Forwarded-Proto: http']\n",
      "Bad pipe message: %s [b'\\nX-Forwarded-Scheme: https\\r\\nX-Scheme: https\\r\\nsec-ch-ua: \"Microsoft Edge\";v=\"117\", \"Not;A=Brand\";v=\"8\", \"Chromium\";', b'\"117\"\\r\\nsec-ch-ua-mobile: ?0\\r\\nsec-ch-ua-platform: \"Windows\"\\r\\nUpgrade-Insecure-Requests: 1\\r\\nUser-Agent: Mozilla/5.0 (Wi', b'ows NT 10.0; Win64; x64) AppleWebKit/537.36 (KHTML, like Gecko) Chrome/117.0.0.0 Safari/537.36 Edg/117.0.2045']\n",
      "Bad pipe message: %s [b'6\\r\\nAccept: text/html,application/xhtml+xml,ap', b'ication/xml;q=0.9,image/webp,image/apng,*/*;q=0.8,application/signed-exchange;v=b3;q=0.7\\r\\nSec-Fetch-Site: same-']\n",
      "Bad pipe message: %s [b'igin\\r\\nSec-Fetch-Mode: navigate\\r\\nSec-Fetch-Dest: iframe\\r\\nReferer: https://a7o3o8ly-zkjmd1cf-h2zu43h9hv27.c2.mcp']\n",
      "Bad pipe message: %s [b'v.cn/_marscode/devtools_wrapper.html?initialPath=%2F&lang=zh\\r\\nAccept-Encoding: gzip, deflate, br\\r\\nAccept-Language', b'zh-CN,zh;q=0.9,en;q=0.8,en-GB;q=0.7,en-US;q=0.6\\r\\nx-tt-log']\n",
      "Bad pipe message: %s [b'a3d4474\\r\\nX-Real-IP: 10.0.102.249\\r\\nX-Forwarded-F', b': 10.0.102.249\\r\\nHost: ksvc05jg-4zcc2i9w-18ioyw7kur27.c2.mcprev.cn\\r\\nX-Forwarded-Host: ksvc05jg-4zcc2i9w-18ioyw7']\n",
      "Bad pipe message: %s [b'r27.c2.mcprev.cn\\r\\nX-Forwarded-Proto: https\\r\\nX-Forwarded-Scheme: https\\r\\nX-Scheme: https\\r\\nsec-ch-ua: \"Micros', b't Edge\";v=\"117\", \"Not;A=Brand\";v=\"8\", \"Chromium\";v=\"117\"\\r\\nsec-ch-ua-mobile: ?0\\r\\nsec-ch-ua-platform: \"Windows\"\\r']\n",
      "Bad pipe message: %s [b'pgrade-In', b'cure-Requests: 1\\r\\nUser-Agent: Mozilla/5.0 (Windows NT 10.0; Win64; x64) AppleWebKit/537.36 (KHTML, like Gecko) Chr', b'e/117.0.0.0 Safari/537.36 Edg/117.0.2045.36\\r\\nAccept: text/html,application/xhtml+xml,application/xml;q=0.9,ima', b'/webp,image/apng,*/*;q=0.8,application/signed-exchange;v=b3;q=0.7\\r\\nSec-Fetch-Site: same-origin\\r\\nSec-Fe', b'h-Mode: navigate\\r\\nSec-Fetch-Dest: iframe\\r\\nReferer: https://ksvc05jg-4zcc2i9w-18ioyw7kur27.c2.mcprev.cn/_marscode/de', b'ools_wrapper.html?initialPath=%2F&lang=zh\\r\\nAccept-Encoding: gzip, deflate, br\\r\\nAccept-Language: zh-CN,zh;q=0.9,en;q=0']\n",
      "Bad pipe message: %s [b',en-GB;q=0.7,en-US;q=0.6\\r\\nx-tt-logid: 0217212']\n",
      "Bad pipe message: %s [b'86c4c82\\r\\nX-Real-IP: 10.0.102.249\\r\\nX-Forwarded-For: ', b'.0.102.249\\r\\nHost: ksvc05jg-4zcc2i9w-18ioyw7kur27']\n",
      "Bad pipe message: %s [b'2.mcprev.cn\\r\\nX-Forwarded-Host: ksvc05jg-4zcc2', b'w-18ioyw7kur27.c2.mcprev.cn\\r\\nX-Forwarded-Proto: https\\r\\nX-Forwarded-Scheme: https\\r\\nX-Scheme: https\\r\\nsec-c', b'ua: \"Microsoft Edge\";v=\"117\", \"Not;A=Brand\";v=\"8\", \"Chromium\";v=\"117\"\\r\\nsec-ch-ua-mobile: ?0\\r\\nsec-ch-ua-', b'atform: \"Windows\"\\r\\nUpgrade-Insecure-Requests: 1\\r\\nUser-Agent: Mozilla/5.0 (Windows NT 10.0; Win64; x64) AppleWeb']\n",
      "Bad pipe message: %s [b't/537.36 (KHTML, like Gecko) Chrome/117.0.0.0 Safari/537.36 Edg/117.0.2045', b'6\\r\\nAccept: text/html,application/xhtml+xml,ap', b'ication/xml;q=0.9,image/webp,image/apng,*/*;q=0.8,application/signed-exchange;v=b3;q=0.7\\r\\nSec-Fetch-Site: same-']\n",
      "Bad pipe message: %s [b'igin\\r\\nSec-Fetch-Mode: navigate\\r\\nSec-Fetch-Dest: iframe\\r\\nReferer: https://ksvc05jg-4zcc2i9w-18ioyw7kur27.c2.mcp']\n",
      "Bad pipe message: %s [b'v.cn/_marscode/devtools_wrapper.html?initialPath=%2F&lang=zh\\r\\nAccept-Encoding: gzip, deflate, br\\r\\nAccept-Language', b'zh-CN,zh;q=0.9,en;q=0.8,en-GB;q=0.7,en-US;q=0.6\\r\\nx-tt-log']\n"
     ]
    }
   ],
   "source": [
    "embedding_size=4\n",
    "fm_second_order_embeddings = nn.ModuleList([nn.Embedding(feature_size, embedding_size) for feature_size in feature_sizes])\n",
    "print('fm_second_order_embeddings:', fm_second_order_embeddings)\n",
    "print(len(fm_second_order_embeddings))"
   ]
  },
  {
   "cell_type": "code",
   "execution_count": 1,
   "metadata": {},
   "outputs": [
    {
     "data": {
      "text/plain": [
       "0.5"
      ]
     },
     "execution_count": 1,
     "metadata": {},
     "output_type": "execute_result"
    }
   ],
   "source": [
    "dropout=[0.5, 0.5]\n",
    "dropout[0]"
   ]
  }
 ],
 "metadata": {
  "kernelspec": {
   "display_name": "Python 3",
   "language": "python",
   "name": "python3"
  },
  "language_info": {
   "codemirror_mode": {
    "name": "ipython",
    "version": 3
   },
   "file_extension": ".py",
   "mimetype": "text/x-python",
   "name": "python",
   "nbconvert_exporter": "python",
   "pygments_lexer": "ipython3",
   "version": "3.12.2"
  }
 },
 "nbformat": 4,
 "nbformat_minor": 2
}
